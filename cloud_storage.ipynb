{
 "cells": [
  {
   "cell_type": "code",
   "execution_count": 72,
   "metadata": {},
   "outputs": [],
   "source": [
    "from google.cloud import storage"
   ]
  },
  {
   "cell_type": "code",
   "execution_count": 84,
   "metadata": {},
   "outputs": [],
   "source": [
    "PROJECT_ID=\"isi-group-m2-dsia\"\n",
    "BUCKET_NAME = \"m2dsia-soumare-ibrahima\""
   ]
  },
  {
   "cell_type": "code",
   "execution_count": 85,
   "metadata": {},
   "outputs": [],
   "source": [
    "storage_client = storage.Client(project=PROJECT_ID)\n"
   ]
  },
  {
   "cell_type": "code",
   "execution_count": 86,
   "metadata": {},
   "outputs": [
    {
     "name": "stdout",
     "output_type": "stream",
     "text": [
      "*****Bucket Name: attoissemouhamed-isi-m2dsia \n",
      "localisation : AFRICA-SOUTH1 : \n",
      "location_type: region\n",
      "\n",
      "*****Bucket Name: isi-dsia-ibrahima-ndao \n",
      "localisation : AFRICA-SOUTH1 : \n",
      "location_type: region\n",
      "\n",
      "*****Bucket Name: isi-dsia2-samboudanieljoseph \n",
      "localisation : US : \n",
      "location_type: multi-region\n",
      "\n",
      "*****Bucket Name: m2-dsia-guy-rock \n",
      "localisation : AFRICA-SOUTH1 : \n",
      "location_type: region\n",
      "\n",
      "*****Bucket Name: m2-dsia-maramata-diop \n",
      "localisation : AFRICA-SOUTH1 : \n",
      "location_type: region\n",
      "\n",
      "*****Bucket Name: m2dsia-ariel-christ-bucket \n",
      "localisation : AFRICA-SOUTH1 : \n",
      "location_type: region\n",
      "\n",
      "*****Bucket Name: m2dsia-dieng-leopold \n",
      "localisation : AFRICA-SOUTH1 : \n",
      "location_type: region\n",
      "\n",
      "*****Bucket Name: m2dsia-soumare-ibrahima \n",
      "localisation : AFRICA-SOUTH1 : \n",
      "location_type: region\n",
      "\n",
      "*****Bucket Name: saikou-oumar \n",
      "localisation : US-EAST1 : \n",
      "location_type: region\n",
      "\n"
     ]
    }
   ],
   "source": [
    "buckets = storage_client.list_buckets()\n",
    "for bucket in buckets:\n",
    "    print(f\"*****Bucket Name: {bucket.name} \\nlocalisation : {bucket.location} : \\nlocation_type: {bucket.location_type}\\n\")"
   ]
  },
  {
   "cell_type": "code",
   "execution_count": 121,
   "metadata": {},
   "outputs": [
    {
     "name": "stdout",
     "output_type": "stream",
     "text": [
      "fichier_test.csv\n"
     ]
    }
   ],
   "source": [
    "blobs = storage_client.list_blobs(BUCKET_NAME)\n",
    "for blob in blobs:\n",
    "    print(blob.name)"
   ]
  },
  {
   "cell_type": "code",
   "execution_count": 95,
   "metadata": {},
   "outputs": [],
   "source": [
    "def upload_blob(bucket_name, fichier_a_transferer, le_nom_du_fichier_dans_le_cloud):\n",
    "    bucket = storage_client.bucket(bucket_name)\n",
    "    blob = bucket.blob(le_nom_du_fichier_dans_le_cloud)\n",
    "    blob.upload_from_filename(fichier_a_transferer)\n",
    "    print(f\"File {fichier_a_transferer} uploaded to {le_nom_du_fichier_dans_le_cloud}.\")"
   ]
  },
  {
   "cell_type": "code",
   "execution_count": 99,
   "metadata": {},
   "outputs": [],
   "source": [
    "exemple_de_fichier = \"files/fichier_test.csv\""
   ]
  },
  {
   "cell_type": "code",
   "execution_count": 100,
   "metadata": {},
   "outputs": [
    {
     "name": "stdout",
     "output_type": "stream",
     "text": [
      "File files/fichier_test.csv uploaded to fichier_test.csv.\n"
     ]
    }
   ],
   "source": [
    "upload_blob(BUCKET_NAME, exemple_de_fichier, \"fichier_test.csv\")"
   ]
  },
  {
   "cell_type": "code",
   "execution_count": 124,
   "metadata": {},
   "outputs": [],
   "source": [
    "def download_file(bucket_name, nom_de_lobjet_telecharger, nom_en_local):\n",
    "    bucket = storage_client.bucket(bucket_name)\n",
    "    blob = bucket.blob(nom_de_lobjet_telecharger)\n",
    "\n",
    "    # Download the blob to a file\n",
    "    blob.download_to_filename(nom_en_local)\n",
    "    print(f\"File {nom_de_lobjet_telecharger} downloaded to {nom_en_local}.\")"
   ]
  },
  {
   "cell_type": "code",
   "execution_count": 125,
   "metadata": {},
   "outputs": [
    {
     "name": "stdout",
     "output_type": "stream",
     "text": [
      "File fichier_test.csv downloaded to fichier_test.csv.\n"
     ]
    }
   ],
   "source": [
    "download_file(BUCKET_NAME, \"fichier_test.csv\", \"fichier_test.csv\")"
   ]
  },
  {
   "cell_type": "code",
   "execution_count": null,
   "metadata": {},
   "outputs": [],
   "source": []
  }
 ],
 "metadata": {
  "kernelspec": {
   "display_name": "Python 3 (ipykernel)",
   "language": "python",
   "name": "python3"
  },
  "language_info": {
   "codemirror_mode": {
    "name": "ipython",
    "version": 3
   },
   "file_extension": ".py",
   "mimetype": "text/x-python",
   "name": "python",
   "nbconvert_exporter": "python",
   "pygments_lexer": "ipython3",
   "version": "3.8.0"
  },
  "vscode": {
   "interpreter": {
    "hash": "b0fa6594d8f4cbf19f97940f81e996739fb7646882a419484c72d19e05852a7e"
   }
  }
 },
 "nbformat": 4,
 "nbformat_minor": 4
}
