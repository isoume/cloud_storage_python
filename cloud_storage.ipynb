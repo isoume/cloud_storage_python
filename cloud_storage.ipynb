{
 "cells": [
  {
   "cell_type": "code",
   "execution_count": 1,
   "metadata": {},
   "outputs": [],
   "source": [
    "from google.cloud import storage"
   ]
  },
  {
   "cell_type": "code",
   "execution_count": 24,
   "metadata": {},
   "outputs": [
    {
     "name": "stdout",
     "output_type": "stream",
     "text": [
      "Requirement already up-to-date: certifi in ./venv_name/lib/python3.8/site-packages (2024.12.14)\n",
      "\u001b[33mWARNING: You are using pip version 19.2.3, however version 24.3.1 is available.\n",
      "You should consider upgrading via the 'pip install --upgrade pip' command.\u001b[0m\n"
     ]
    }
   ],
   "source": [
    "!pip install --upgrade certifi"
   ]
  },
  {
   "cell_type": "code",
   "execution_count": 19,
   "metadata": {},
   "outputs": [],
   "source": [
    "import certifi"
   ]
  },
  {
   "cell_type": "code",
   "execution_count": 31,
   "metadata": {},
   "outputs": [],
   "source": [
    "import pandas as pd\n",
    "from io import StringIO"
   ]
  },
  {
   "cell_type": "code",
   "execution_count": 3,
   "metadata": {},
   "outputs": [],
   "source": [
    "PROJECT_ID=\"isi-group-m2-dsia\"\n",
    "BUCKET_NAME = \"m2dsia-soumare-ibrahima-data\""
   ]
  },
  {
   "cell_type": "code",
   "execution_count": 4,
   "metadata": {},
   "outputs": [],
   "source": [
    "storage_client = storage.Client(project=PROJECT_ID)\n",
    "buckets = storage_client.list_buckets()"
   ]
  },
  {
   "cell_type": "code",
   "execution_count": 59,
   "metadata": {},
   "outputs": [],
   "source": [
    "bucket = storage_client.get_bucket(BUCKET_NAME)"
   ]
  },
  {
   "cell_type": "code",
   "execution_count": 60,
   "metadata": {},
   "outputs": [
    {
     "data": {
      "text/plain": [
       "['STORAGE_CLASSES',\n",
       " '_LOCATION_TYPES',\n",
       " '_MAX_OBJECTS_FOR_ITERATION',\n",
       " '__class__',\n",
       " '__delattr__',\n",
       " '__dict__',\n",
       " '__dir__',\n",
       " '__doc__',\n",
       " '__eq__',\n",
       " '__format__',\n",
       " '__ge__',\n",
       " '__getattribute__',\n",
       " '__gt__',\n",
       " '__hash__',\n",
       " '__init__',\n",
       " '__init_subclass__',\n",
       " '__le__',\n",
       " '__lt__',\n",
       " '__module__',\n",
       " '__ne__',\n",
       " '__new__',\n",
       " '__reduce__',\n",
       " '__reduce_ex__',\n",
       " '__repr__',\n",
       " '__setattr__',\n",
       " '__sizeof__',\n",
       " '__str__',\n",
       " '__subclasshook__',\n",
       " '__weakref__',\n",
       " '_acl',\n",
       " '_changes',\n",
       " '_client',\n",
       " '_default_object_acl',\n",
       " '_encryption_headers',\n",
       " '_label_removals',\n",
       " '_location',\n",
       " '_patch_property',\n",
       " '_properties',\n",
       " '_query_params',\n",
       " '_require_client',\n",
       " '_set_properties',\n",
       " '_user_project',\n",
       " 'acl',\n",
       " 'add_lifecycle_abort_incomplete_multipart_upload_rule',\n",
       " 'add_lifecycle_delete_rule',\n",
       " 'add_lifecycle_set_storage_class_rule',\n",
       " 'autoclass_enabled',\n",
       " 'autoclass_terminal_storage_class',\n",
       " 'autoclass_terminal_storage_class_update_time',\n",
       " 'autoclass_toggle_time',\n",
       " 'blob',\n",
       " 'clear_lifecycle_rules',\n",
       " 'clear_lifecyle_rules',\n",
       " 'client',\n",
       " 'configure_website',\n",
       " 'copy_blob',\n",
       " 'cors',\n",
       " 'create',\n",
       " 'data_locations',\n",
       " 'default_event_based_hold',\n",
       " 'default_kms_key_name',\n",
       " 'default_object_acl',\n",
       " 'delete',\n",
       " 'delete_blob',\n",
       " 'delete_blobs',\n",
       " 'disable_logging',\n",
       " 'disable_website',\n",
       " 'enable_logging',\n",
       " 'etag',\n",
       " 'exists',\n",
       " 'from_string',\n",
       " 'generate_signed_url',\n",
       " 'generate_upload_policy',\n",
       " 'generation',\n",
       " 'get_blob',\n",
       " 'get_iam_policy',\n",
       " 'get_logging',\n",
       " 'get_notification',\n",
       " 'hard_delete_time',\n",
       " 'hierarchical_namespace_enabled',\n",
       " 'iam_configuration',\n",
       " 'id',\n",
       " 'labels',\n",
       " 'lifecycle_rules',\n",
       " 'list_blobs',\n",
       " 'list_notifications',\n",
       " 'location',\n",
       " 'location_type',\n",
       " 'lock_retention_policy',\n",
       " 'make_private',\n",
       " 'make_public',\n",
       " 'metageneration',\n",
       " 'name',\n",
       " 'notification',\n",
       " 'object_retention_mode',\n",
       " 'owner',\n",
       " 'patch',\n",
       " 'path',\n",
       " 'path_helper',\n",
       " 'project_number',\n",
       " 'reload',\n",
       " 'rename_blob',\n",
       " 'requester_pays',\n",
       " 'restore_blob',\n",
       " 'retention_period',\n",
       " 'retention_policy_effective_time',\n",
       " 'retention_policy_locked',\n",
       " 'rpo',\n",
       " 'self_link',\n",
       " 'set_iam_policy',\n",
       " 'soft_delete_policy',\n",
       " 'soft_delete_time',\n",
       " 'storage_class',\n",
       " 'test_iam_permissions',\n",
       " 'time_created',\n",
       " 'update',\n",
       " 'updated',\n",
       " 'user_project',\n",
       " 'versioning_enabled']"
      ]
     },
     "execution_count": 60,
     "metadata": {},
     "output_type": "execute_result"
    }
   ],
   "source": [
    "dir(bucket)"
   ]
  },
  {
   "cell_type": "code",
   "execution_count": 5,
   "metadata": {},
   "outputs": [
    {
     "name": "stdout",
     "output_type": "stream",
     "text": [
      "*****Bucket Name: m2-dsia-ariel-christ \n",
      "localisation : AFRICA-SOUTH1 : \n",
      "location_type: region\n",
      "\n",
      "*****Bucket Name: m2-dsia-attoisse-mohamed \n",
      "localisation : AFRICA-SOUTH1 : \n",
      "location_type: region\n",
      "\n",
      "*****Bucket Name: m2-dsia-dublond-junior \n",
      "localisation : AFRICA-SOUTH1 : \n",
      "location_type: region\n",
      "\n",
      "*****Bucket Name: m2-dsia-guy-rock \n",
      "localisation : AFRICA-SOUTH1 : \n",
      "location_type: region\n",
      "\n",
      "*****Bucket Name: m2-dsia-ibrahima-ndao \n",
      "localisation : AFRICA-SOUTH1 : \n",
      "location_type: region\n",
      "\n",
      "*****Bucket Name: m2-dsia-mamadou-moustapha-diallo \n",
      "localisation : AFRICA-SOUTH1 : \n",
      "location_type: region\n",
      "\n",
      "*****Bucket Name: m2-dsia-maramata-diop \n",
      "localisation : AFRICA-SOUTH1 : \n",
      "location_type: region\n",
      "\n",
      "*****Bucket Name: m2dsia-attoisse-mohamed-data \n",
      "localisation : AFRICA-SOUTH1 : \n",
      "location_type: region\n",
      "\n",
      "*****Bucket Name: m2dsia-diallo-saikou-oumar \n",
      "localisation : AFRICA-SOUTH1 : \n",
      "location_type: region\n",
      "\n",
      "*****Bucket Name: m2dsia-diallo-saikou-oumar-data \n",
      "localisation : AFRICA-SOUTH1 : \n",
      "location_type: region\n",
      "\n",
      "*****Bucket Name: m2dsia-dieng-leopold \n",
      "localisation : AFRICA-SOUTH1 : \n",
      "location_type: region\n",
      "\n",
      "*****Bucket Name: m2dsia-dieng-leopold-data \n",
      "localisation : AFRICA-SOUTH1 : \n",
      "location_type: region\n",
      "\n",
      "*****Bucket Name: m2dsia-guyrock-malela-data \n",
      "localisation : AFRICA-SOUTH1 : \n",
      "location_type: region\n",
      "\n",
      "*****Bucket Name: m2dsia-jeson-nanfack \n",
      "localisation : AFRICA-SOUTH1 : \n",
      "location_type: region\n",
      "\n",
      "*****Bucket Name: m2dsia-jeson-nanfack-data \n",
      "localisation : AFRICA-SOUTH1 : \n",
      "location_type: region\n",
      "\n",
      "*****Bucket Name: m2dsia-mame-diarra-sylla \n",
      "localisation : AFRICA-SOUTH1 : \n",
      "location_type: region\n",
      "\n",
      "*****Bucket Name: m2dsia-mame-diarra-sylla-data \n",
      "localisation : AFRICA-SOUTH1 : \n",
      "location_type: region\n",
      "\n",
      "*****Bucket Name: m2dsia-ndao-ibrahima-data \n",
      "localisation : AFRICA-SOUTH1 : \n",
      "location_type: region\n",
      "\n",
      "*****Bucket Name: m2dsia-ngato-ariel-data \n",
      "localisation : AFRICA-SOUTH1 : \n",
      "location_type: region\n",
      "\n",
      "*****Bucket Name: m2dsia-sambou-danieljoseph-data \n",
      "localisation : AFRICA-SOUTH1 : \n",
      "location_type: region\n",
      "\n",
      "*****Bucket Name: m2dsia-soumare-ibrahima-data \n",
      "localisation : AFRICA-SOUTH1 : \n",
      "location_type: region\n",
      "\n"
     ]
    }
   ],
   "source": [
    "\n",
    "for bucket in buckets:\n",
    "    print(f\"*****Bucket Name: {bucket.name} \\nlocalisation : {bucket.location} : \\nlocation_type: {bucket.location_type}\\n\")"
   ]
  },
  {
   "cell_type": "code",
   "execution_count": 6,
   "metadata": {},
   "outputs": [],
   "source": [
    "def lister_les_objects(bucket_name, prefix=None, delimiter=None):\n",
    "    blobs = storage_client.list_blobs(BUCKET_NAME)\n",
    "    return blobs"
   ]
  },
  {
   "cell_type": "code",
   "execution_count": 7,
   "metadata": {},
   "outputs": [
    {
     "name": "stdout",
     "output_type": "stream",
     "text": [
      "input/\n",
      "input/transactions.csv\n"
     ]
    }
   ],
   "source": [
    "blobs = storage_client.list_blobs(BUCKET_NAME, prefix=\"input/\")\n",
    "for blob in blobs:\n",
    "    print(blob.name)"
   ]
  },
  {
   "cell_type": "code",
   "execution_count": 9,
   "metadata": {},
   "outputs": [
    {
     "data": {
      "text/plain": [
       "'input/transactions.csv'"
      ]
     },
     "execution_count": 9,
     "metadata": {},
     "output_type": "execute_result"
    }
   ],
   "source": [
    "blob.name"
   ]
  },
  {
   "cell_type": "code",
   "execution_count": 25,
   "metadata": {},
   "outputs": [],
   "source": [
    "def read_csv_from_gcs(bucket_name, blob):\n",
    "    # Construct the full GCS path\n",
    "    gcs_path = f\"gs://{bucket_name}/{blob.name}\"\n",
    "\n",
    "    # Use pandas to read the CSV directly from GCS\n",
    "    df = pd.read_csv(gcs_path, storage_options={\"token\": \"google_default\", \"ssl\": {\"verify\": False}})\n",
    "    return df"
   ]
  },
  {
   "cell_type": "code",
   "execution_count": null,
   "metadata": {},
   "outputs": [],
   "source": []
  },
  {
   "cell_type": "code",
   "execution_count": 28,
   "metadata": {},
   "outputs": [],
   "source": [
    "def read_csv_from_gcs(blob):\n",
    "    csv_content = blob.download_as_text()\n",
    "    df = pd.read_csv(StringIO(csv_content))\n",
    "    return df"
   ]
  },
  {
   "cell_type": "code",
   "execution_count": 32,
   "metadata": {},
   "outputs": [
    {
     "data": {
      "text/html": [
       "<div>\n",
       "<style scoped>\n",
       "    .dataframe tbody tr th:only-of-type {\n",
       "        vertical-align: middle;\n",
       "    }\n",
       "\n",
       "    .dataframe tbody tr th {\n",
       "        vertical-align: top;\n",
       "    }\n",
       "\n",
       "    .dataframe thead th {\n",
       "        text-align: right;\n",
       "    }\n",
       "</style>\n",
       "<table border=\"1\" class=\"dataframe\">\n",
       "  <thead>\n",
       "    <tr style=\"text-align: right;\">\n",
       "      <th></th>\n",
       "      <th>transaction_id</th>\n",
       "      <th>product_name</th>\n",
       "      <th>category</th>\n",
       "      <th>price</th>\n",
       "      <th>quantity</th>\n",
       "      <th>date</th>\n",
       "      <th>customer_name</th>\n",
       "      <th>customer_email</th>\n",
       "    </tr>\n",
       "  </thead>\n",
       "  <tbody>\n",
       "    <tr>\n",
       "      <th>0</th>\n",
       "      <td>1</td>\n",
       "      <td>Running Shoes</td>\n",
       "      <td>Sports</td>\n",
       "      <td>560.97</td>\n",
       "      <td>9</td>\n",
       "      <td>2024-03-10</td>\n",
       "      <td>Cameron Martin</td>\n",
       "      <td>akeller@yahoo.com</td>\n",
       "    </tr>\n",
       "    <tr>\n",
       "      <th>1</th>\n",
       "      <td>2</td>\n",
       "      <td>Office Chair</td>\n",
       "      <td>Furniture</td>\n",
       "      <td>1371.39</td>\n",
       "      <td>7</td>\n",
       "      <td>2024-12-31</td>\n",
       "      <td>Joshua Ellis</td>\n",
       "      <td>riveranicholas@hotmail.com</td>\n",
       "    </tr>\n",
       "    <tr>\n",
       "      <th>2</th>\n",
       "      <td>3</td>\n",
       "      <td>Tablet</td>\n",
       "      <td>Furniture</td>\n",
       "      <td>620.46</td>\n",
       "      <td>5</td>\n",
       "      <td>2024-06-22</td>\n",
       "      <td>Jessica Price</td>\n",
       "      <td>nathanhill@johnson-montes.com</td>\n",
       "    </tr>\n",
       "    <tr>\n",
       "      <th>3</th>\n",
       "      <td>4</td>\n",
       "      <td>Headphones</td>\n",
       "      <td>Electronics</td>\n",
       "      <td>827.16</td>\n",
       "      <td>7</td>\n",
       "      <td>2024-01-30</td>\n",
       "      <td>NaN</td>\n",
       "      <td>smithlawrence@gmail.com</td>\n",
       "    </tr>\n",
       "    <tr>\n",
       "      <th>4</th>\n",
       "      <td>5</td>\n",
       "      <td>Gaming Laptop</td>\n",
       "      <td>Accessories</td>\n",
       "      <td>1663.99</td>\n",
       "      <td>7</td>\n",
       "      <td>2024-11-11</td>\n",
       "      <td>Melissa Snow</td>\n",
       "      <td>nicolenguyen@thompson.net</td>\n",
       "    </tr>\n",
       "  </tbody>\n",
       "</table>\n",
       "</div>"
      ],
      "text/plain": [
       "   transaction_id   product_name     category    price  quantity        date  \\\n",
       "0               1  Running Shoes       Sports   560.97         9  2024-03-10   \n",
       "1               2   Office Chair    Furniture  1371.39         7  2024-12-31   \n",
       "2               3         Tablet    Furniture   620.46         5  2024-06-22   \n",
       "3               4     Headphones  Electronics   827.16         7  2024-01-30   \n",
       "4               5  Gaming Laptop  Accessories  1663.99         7  2024-11-11   \n",
       "\n",
       "    customer_name                 customer_email  \n",
       "0  Cameron Martin              akeller@yahoo.com  \n",
       "1    Joshua Ellis     riveranicholas@hotmail.com  \n",
       "2   Jessica Price  nathanhill@johnson-montes.com  \n",
       "3             NaN        smithlawrence@gmail.com  \n",
       "4    Melissa Snow      nicolenguyen@thompson.net  "
      ]
     },
     "execution_count": 32,
     "metadata": {},
     "output_type": "execute_result"
    }
   ],
   "source": [
    "df=read_csv_from_gcs( blob)\n",
    "df.head()"
   ]
  },
  {
   "cell_type": "code",
   "execution_count": 56,
   "metadata": {},
   "outputs": [],
   "source": [
    "# Vérifier si une colonne ou un DataFrame contient des valeurs non date\n",
    "def dataframe_has_non_date_values(df, col_name):\n",
    "    try:\n",
    "        pd.to_datetime(df[col_name], errors=\"raise\")\n",
    "        return True\n",
    "    except ValueError:\n",
    "        return  False"
   ]
  },
  {
   "cell_type": "code",
   "execution_count": 57,
   "metadata": {},
   "outputs": [
    {
     "data": {
      "text/plain": [
       "True"
      ]
     },
     "execution_count": 57,
     "metadata": {},
     "output_type": "execute_result"
    }
   ],
   "source": [
    "dataframe_has_non_date_values(df, \"date\")"
   ]
  },
  {
   "cell_type": "code",
   "execution_count": 16,
   "metadata": {},
   "outputs": [],
   "source": [
    "def upload_blob(bucket_name, fichier_a_transferer, le_nom_du_fichier_dans_le_cloud):\n",
    "    bucket = storage_client.bucket(bucket_name)\n",
    "    blob = bucket.blob(le_nom_du_fichier_dans_le_cloud)\n",
    "    blob.upload_from_filename(fichier_a_transferer)\n",
    "    print(f\"File {fichier_a_transferer} uploaded to {le_nom_du_fichier_dans_le_cloud}.\")"
   ]
  },
  {
   "cell_type": "code",
   "execution_count": 17,
   "metadata": {},
   "outputs": [],
   "source": [
    "exemple_de_fichier = \"files/transactions.csv\""
   ]
  },
  {
   "cell_type": "code",
   "execution_count": 18,
   "metadata": {},
   "outputs": [
    {
     "name": "stdout",
     "output_type": "stream",
     "text": [
      "File files/transactions.csv uploaded to input/transactions.csv.\n"
     ]
    }
   ],
   "source": [
    "upload_blob(BUCKET_NAME, exemple_de_fichier, f\"input/{exemple_de_fichier.split('/')[-1]}\")"
   ]
  },
  {
   "cell_type": "code",
   "execution_count": 24,
   "metadata": {},
   "outputs": [],
   "source": [
    "def copy_file_to(blob, folder):\n",
    "    #bucket.copy_blob(blob, bucket, destination_blob_name)\n",
    "    pass"
   ]
  },
  {
   "cell_type": "code",
   "execution_count": 20,
   "metadata": {},
   "outputs": [],
   "source": [
    "def supprimer_object(blob):\n",
    "    ### Compléter le code\n",
    "    ### blob.delete()\n",
    "    pass"
   ]
  },
  {
   "cell_type": "code",
   "execution_count": 21,
   "metadata": {},
   "outputs": [],
   "source": [
    "def transform_csv_blob_to_df(blob):\n",
    "    data = blob.download_as_text()\n",
    "    df = pd.read_csv(io.StringIO(data))\n",
    "    return df"
   ]
  },
  {
   "cell_type": "code",
   "execution_count": 25,
   "metadata": {},
   "outputs": [],
   "source": [
    "def process_file(blob):\n",
    "    df = transform_csv_blob_to_df(blob)\n",
    "    ## Tester la conformité du fichier\n",
    "    ### Si tout est clean copy_file_to(blob, folder=\"clean\") puis supprimer_object(blob)\n",
    "    ### S'il ya des erreurs copy_file_to(blob, folder=\"error\") puis supprimer_object(blob)"
   ]
  },
  {
   "cell_type": "code",
   "execution_count": 26,
   "metadata": {},
   "outputs": [],
   "source": [
    "def process_files(bucket_name, folder_name=\"input/\"):\n",
    "    blobs = storage_client.list_blobs(BUCKET_NAME, prefix=folder_name)\n",
    "    for blob in blobs:\n",
    "        process_file(blob)"
   ]
  },
  {
   "cell_type": "code",
   "execution_count": 64,
   "metadata": {},
   "outputs": [
    {
     "name": "stdout",
     "output_type": "stream",
     "text": [
      "input/\n",
      "input/transactions.csv\n"
     ]
    }
   ],
   "source": [
    "blobs = bucket.list_blobs(prefix=\"input/\")\n",
    "for blob in blobs:\n",
    "    print(blob.name)"
   ]
  },
  {
   "cell_type": "code",
   "execution_count": null,
   "metadata": {},
   "outputs": [],
   "source": []
  }
 ],
 "metadata": {
  "kernelspec": {
   "display_name": "Python 3 (ipykernel)",
   "language": "python",
   "name": "python3"
  },
  "language_info": {
   "codemirror_mode": {
    "name": "ipython",
    "version": 3
   },
   "file_extension": ".py",
   "mimetype": "text/x-python",
   "name": "python",
   "nbconvert_exporter": "python",
   "pygments_lexer": "ipython3",
   "version": "3.8.0"
  },
  "vscode": {
   "interpreter": {
    "hash": "b0fa6594d8f4cbf19f97940f81e996739fb7646882a419484c72d19e05852a7e"
   }
  }
 },
 "nbformat": 4,
 "nbformat_minor": 4
}
