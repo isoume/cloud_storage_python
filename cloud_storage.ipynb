{
 "cells": [
  {
   "cell_type": "code",
   "execution_count": 41,
   "metadata": {},
   "outputs": [],
   "source": [
    "from google.cloud import storage"
   ]
  },
  {
   "cell_type": "code",
   "execution_count": 42,
   "metadata": {},
   "outputs": [],
   "source": [
    "import pandas as pd\n",
    "import io"
   ]
  },
  {
   "cell_type": "code",
   "execution_count": 43,
   "metadata": {},
   "outputs": [],
   "source": [
    "PROJECT_ID=\"isi-group-m2-dsia\"\n",
    "BUCKET_NAME = \"m2dsia-soumare-ibrahima-data\""
   ]
  },
  {
   "cell_type": "code",
   "execution_count": 44,
   "metadata": {},
   "outputs": [],
   "source": [
    "storage_client = storage.Client(project=PROJECT_ID)\n"
   ]
  },
  {
   "cell_type": "code",
   "execution_count": 45,
   "metadata": {},
   "outputs": [
    {
     "name": "stdout",
     "output_type": "stream",
     "text": [
      "*****Bucket Name: m2-dsia-ariel-christ \n",
      "localisation : AFRICA-SOUTH1 : \n",
      "location_type: region\n",
      "\n",
      "*****Bucket Name: m2-dsia-attoisse-mohamed \n",
      "localisation : AFRICA-SOUTH1 : \n",
      "location_type: region\n",
      "\n",
      "*****Bucket Name: m2-dsia-dublond-junior \n",
      "localisation : AFRICA-SOUTH1 : \n",
      "location_type: region\n",
      "\n",
      "*****Bucket Name: m2-dsia-guy-rock \n",
      "localisation : AFRICA-SOUTH1 : \n",
      "location_type: region\n",
      "\n",
      "*****Bucket Name: m2-dsia-ibrahima-ndao \n",
      "localisation : AFRICA-SOUTH1 : \n",
      "location_type: region\n",
      "\n",
      "*****Bucket Name: m2-dsia-maramata-diop \n",
      "localisation : AFRICA-SOUTH1 : \n",
      "location_type: region\n",
      "\n",
      "*****Bucket Name: m2dsia-attoisse-mohamed-data \n",
      "localisation : AFRICA-SOUTH1 : \n",
      "location_type: region\n",
      "\n",
      "*****Bucket Name: m2dsia-diallo-saikou-oumar \n",
      "localisation : AFRICA-SOUTH1 : \n",
      "location_type: region\n",
      "\n",
      "*****Bucket Name: m2dsia-diallo-saikou-oumar-data \n",
      "localisation : AFRICA-SOUTH1 : \n",
      "location_type: region\n",
      "\n",
      "*****Bucket Name: m2dsia-dieng-leopold \n",
      "localisation : AFRICA-SOUTH1 : \n",
      "location_type: region\n",
      "\n",
      "*****Bucket Name: m2dsia-dieng-leopold-data \n",
      "localisation : AFRICA-SOUTH1 : \n",
      "location_type: region\n",
      "\n",
      "*****Bucket Name: m2dsia-jeson-nanfack \n",
      "localisation : AFRICA-SOUTH1 : \n",
      "location_type: region\n",
      "\n",
      "*****Bucket Name: m2dsia-jeson-nanfack-data \n",
      "localisation : AFRICA-SOUTH1 : \n",
      "location_type: region\n",
      "\n",
      "*****Bucket Name: m2dsia-mame-diarra-sylla \n",
      "localisation : AFRICA-SOUTH1 : \n",
      "location_type: region\n",
      "\n",
      "*****Bucket Name: m2dsia-mame-diarra-sylla-data \n",
      "localisation : AFRICA-SOUTH1 : \n",
      "location_type: region\n",
      "\n",
      "*****Bucket Name: m2dsia-ndao-ibrahima-data \n",
      "localisation : AFRICA-SOUTH1 : \n",
      "location_type: region\n",
      "\n",
      "*****Bucket Name: m2dsia-ngato-ariel-data \n",
      "localisation : AFRICA-SOUTH1 : \n",
      "location_type: region\n",
      "\n",
      "*****Bucket Name: m2dsia-soumare-ibrahima-data \n",
      "localisation : AFRICA-SOUTH1 : \n",
      "location_type: region\n",
      "\n"
     ]
    }
   ],
   "source": [
    "buckets = storage_client.list_buckets()\n",
    "for bucket in buckets:\n",
    "    print(f\"*****Bucket Name: {bucket.name} \\nlocalisation : {bucket.location} : \\nlocation_type: {bucket.location_type}\\n\")"
   ]
  },
  {
   "cell_type": "code",
   "execution_count": 46,
   "metadata": {},
   "outputs": [],
   "source": [
    "def lister_les_objects(bucket_name, prefix=None, delimiter=None):\n",
    "    blobs = storage_client.list_blobs(BUCKET_NAME)\n",
    "    return blobs"
   ]
  },
  {
   "cell_type": "code",
   "execution_count": 49,
   "metadata": {},
   "outputs": [
    {
     "name": "stdout",
     "output_type": "stream",
     "text": [
      "input/\n",
      "input/transactions.csv\n"
     ]
    }
   ],
   "source": [
    "blobs = storage_client.list_blobs(BUCKET_NAME, prefix=\"input/\")\n",
    "for blob in blobs:\n",
    "    print(blob.name)"
   ]
  },
  {
   "cell_type": "code",
   "execution_count": 48,
   "metadata": {},
   "outputs": [],
   "source": [
    "def upload_blob(bucket_name, fichier_a_transferer, le_nom_du_fichier_dans_le_cloud):\n",
    "    bucket = storage_client.bucket(bucket_name)\n",
    "    blob = bucket.blob(le_nom_du_fichier_dans_le_cloud)\n",
    "    blob.upload_from_filename(fichier_a_transferer)\n",
    "    print(f\"File {fichier_a_transferer} uploaded to {le_nom_du_fichier_dans_le_cloud}.\")"
   ]
  },
  {
   "cell_type": "code",
   "execution_count": 20,
   "metadata": {},
   "outputs": [],
   "source": [
    "exemple_de_fichier = \"files/transactions.csv\""
   ]
  },
  {
   "cell_type": "code",
   "execution_count": 22,
   "metadata": {},
   "outputs": [
    {
     "name": "stdout",
     "output_type": "stream",
     "text": [
      "File files/transactions.csv uploaded to input/transactions.csv.\n"
     ]
    }
   ],
   "source": [
    "upload_blob(BUCKET_NAME, exemple_de_fichier, f\"input/{exemple_de_fichier.split('/')[-1]}\")"
   ]
  },
  {
   "cell_type": "code",
   "execution_count": 24,
   "metadata": {},
   "outputs": [],
   "source": [
    "def copier_file_to(blob, folder):\n",
    "    ### Compléter le code .copy_blob\n",
    "    pass"
   ]
  },
  {
   "cell_type": "code",
   "execution_count": 25,
   "metadata": {},
   "outputs": [],
   "source": [
    "def supprimer_object(blob):\n",
    "    ### Compléter le code\n",
    "    pass"
   ]
  },
  {
   "cell_type": "code",
   "execution_count": 53,
   "metadata": {},
   "outputs": [],
   "source": [
    "def transform_csv_blob_to_df(blob):\n",
    "    data = blob.download_as_text()\n",
    "    df = pd.read_csv(io.StringIO(data))\n",
    "    return df"
   ]
  },
  {
   "cell_type": "code",
   "execution_count": 57,
   "metadata": {},
   "outputs": [],
   "source": [
    "def process_file(blob):\n",
    "    df = transform_csv_blob_to_df(blob)\n",
    "    ## Tester la conformité du fichier\n",
    "    ### Si tout est clean copier_file_to(blob, folder=\"clean\") puis supprimer_object(blob)\n",
    "    ### S'il ya des erreurs copier_file_to(blob, folder=\"error\") puis supprimer_object(blob)"
   ]
  },
  {
   "cell_type": "code",
   "execution_count": 50,
   "metadata": {},
   "outputs": [],
   "source": [
    "def process_files(bucket_name, folder_name=\"input/\"):\n",
    "    torage_client.list_blobs(BUCKET_NAME, prefix=folder_name)\n",
    "    blobs = lister_les_objects(bucket_name, prefix=None, delimiter=None)\n",
    "    for blob in blobs:\n",
    "        process_file(blob)"
   ]
  }
 ],
 "metadata": {
  "kernelspec": {
   "display_name": "Python 3 (ipykernel)",
   "language": "python",
   "name": "python3"
  },
  "language_info": {
   "codemirror_mode": {
    "name": "ipython",
    "version": 3
   },
   "file_extension": ".py",
   "mimetype": "text/x-python",
   "name": "python",
   "nbconvert_exporter": "python",
   "pygments_lexer": "ipython3",
   "version": "3.8.0"
  },
  "vscode": {
   "interpreter": {
    "hash": "b0fa6594d8f4cbf19f97940f81e996739fb7646882a419484c72d19e05852a7e"
   }
  }
 },
 "nbformat": 4,
 "nbformat_minor": 4
}
